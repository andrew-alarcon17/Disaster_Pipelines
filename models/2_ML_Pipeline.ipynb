{
 "cells": [
  {
   "cell_type": "markdown",
   "id": "85a07418",
   "metadata": {},
   "source": [
    "# ML Pipeline Preparation\n",
    "Follow the instructions below to help you create your ML pipeline.\n",
    "### 1. Import libraries and load data from database.\n",
    "- Import Python libraries\n",
    "- Load dataset from database with [`read_sql_table`](https://pandas.pydata.org/pandas-docs/stable/generated/pandas.read_sql_table.html)\n",
    "- Define feature and target variables X and Y"
   ]
  },
  {
   "cell_type": "code",
   "execution_count": 1,
   "id": "4743e0cd",
   "metadata": {},
   "outputs": [
    {
     "name": "stdout",
     "output_type": "stream",
     "text": [
      "[nltk_data] Downloading package punkt to /root/nltk_data...\n",
      "[nltk_data]   Unzipping tokenizers/punkt.zip.\n",
      "[nltk_data] Downloading package wordnet to /root/nltk_data...\n",
      "[nltk_data]   Unzipping corpora/wordnet.zip.\n",
      "[nltk_data] Downloading package averaged_perceptron_tagger to\n",
      "[nltk_data]     /root/nltk_data...\n",
      "[nltk_data]   Unzipping taggers/averaged_perceptron_tagger.zip.\n"
     ]
    }
   ],
   "source": [
    "# import libraries\n",
    "import pandas as pd\n",
    "import numpy as np\n",
    "from sqlalchemy import create_engine\n",
    "from sqlite3 import connect\n",
    "from sklearn.metrics import classification_report\n",
    "\n",
    "import sys\n",
    "import os\n",
    "import re\n",
    "import pickle\n",
    "\n",
    "from nltk.tokenize import word_tokenize\n",
    "from nltk.corpus import stopwords\n",
    "from nltk.tokenize import sent_tokenize\n",
    "from nltk.stem.wordnet import WordNetLemmatizer\n",
    "\n",
    "from sklearn.pipeline import Pipeline, FeatureUnion\n",
    "from sklearn.metrics import confusion_matrix\n",
    "from sklearn.model_selection import train_test_split\n",
    "from sklearn.feature_extraction.text import CountVectorizer, TfidfTransformer\n",
    "from sklearn.base import BaseEstimator, TransformerMixin\n",
    "\n",
    "from sklearn.datasets import make_multilabel_classification\n",
    "from sklearn.multioutput import MultiOutputClassifier\n",
    "from sklearn.ensemble import RandomForestClassifier, AdaBoostClassifier\n",
    "from sklearn.model_selection import GridSearchCV\n",
    "from sklearn.metrics import classification_report\n",
    "\n",
    "import nltk\n",
    "nltk.download('punkt')\n",
    "nltk.download('wordnet')\n",
    "nltk.download('averaged_perceptron_tagger')\n",
    "\n",
    "pd.set_option('display.max_columns', None)"
   ]
  },
  {
   "cell_type": "code",
   "execution_count": 2,
   "id": "842c3d9b",
   "metadata": {},
   "outputs": [],
   "source": [
    "engine = create_engine('sqlite:///InsertDatabaseName.db')"
   ]
  },
  {
   "cell_type": "code",
   "execution_count": 3,
   "id": "bcb6c94b",
   "metadata": {},
   "outputs": [
    {
     "data": {
      "text/plain": [
       "['InsertTableName']"
      ]
     },
     "execution_count": 3,
     "metadata": {},
     "output_type": "execute_result"
    }
   ],
   "source": [
    "engine.table_names()"
   ]
  },
  {
   "cell_type": "code",
   "execution_count": 4,
   "id": "5aa083a0",
   "metadata": {},
   "outputs": [],
   "source": [
    "# load data from database\n",
    "engine = create_engine('sqlite:///InsertDatabaseName.db')\n",
    "df = pd.read_sql_table(\"InsertTableName\",engine)\n",
    "#df['related'] = df['related'].replace(2, 1)\n",
    "df['related'] = df['related'].astype('str').str.replace('2', '1')\n",
    "df['related'] = df['related'].astype('int')\n",
    "df = df.drop(['child_alone'], axis=1)"
   ]
  },
  {
   "cell_type": "code",
   "execution_count": 5,
   "id": "d6cbbf5c",
   "metadata": {},
   "outputs": [],
   "source": [
    "X = df.message\n",
    "Y = df.iloc[:, 4:]\n",
    "#Can also write Y as df[df.columns[4:]]"
   ]
  },
  {
   "cell_type": "code",
   "execution_count": 6,
   "id": "8c3d2821",
   "metadata": {},
   "outputs": [
    {
     "data": {
      "text/plain": [
       "(26216, 35)"
      ]
     },
     "execution_count": 6,
     "metadata": {},
     "output_type": "execute_result"
    }
   ],
   "source": [
    "Y.shape"
   ]
  },
  {
   "cell_type": "code",
   "execution_count": 7,
   "id": "cfac1988",
   "metadata": {},
   "outputs": [
    {
     "data": {
      "text/plain": [
       "array([1, 0])"
      ]
     },
     "execution_count": 7,
     "metadata": {},
     "output_type": "execute_result"
    }
   ],
   "source": [
    "df['related'].unique()"
   ]
  },
  {
   "cell_type": "markdown",
   "id": "ec19fca0",
   "metadata": {},
   "source": [
    "### 2. Write a tokenization function to process your text data"
   ]
  },
  {
   "cell_type": "markdown",
   "id": "02776c5a",
   "metadata": {},
   "source": [
    "We want to lowercase the text and remove punctuation. Also drop the ID column."
   ]
  },
  {
   "cell_type": "code",
   "execution_count": 8,
   "id": "428ed57e",
   "metadata": {},
   "outputs": [],
   "source": [
    "def tokenize(text):\n",
    "    \n",
    "    #make the text lowercase\n",
    "    text = text.lower()\n",
    "    \n",
    "    #remove punctuation from the text\n",
    "    text = text.replace(r'[^\\w\\s]','')\n",
    "    \n",
    "    #stop_words = set(stopwords.words('english'))\n",
    "    \n",
    "    #tokenize text\n",
    "    tokens = word_tokenize(text)\n",
    "    \n",
    "    # initiate lemmatizer\n",
    "    lemmatizer = WordNetLemmatizer()\n",
    "    \n",
    "    lemmatized = [lemmatizer.lemmatize(word) for word in tokens]\n",
    "    \n",
    "    # iterate through each token\n",
    "    clean_tokens = []\n",
    "    for tok in tokens:\n",
    "        #lemmatize, normalize case, remove leading/trailing white space\n",
    "        clean_tok = lemmatizer.lemmatize(tok).lower().strip()\n",
    "        clean_tokens.append(clean_tok)\n",
    "    return clean_tokens"
   ]
  },
  {
   "cell_type": "markdown",
   "id": "7d0b48d3",
   "metadata": {},
   "source": [
    "### 3. Build a machine learning pipeline\n",
    "This machine pipeline should take in the `message` column as input and output classification results on the other 36 categories in the dataset. You may find the [MultiOutputClassifier](http://scikit-learn.org/stable/modules/generated/sklearn.multioutput.MultiOutputClassifier.html) helpful for predicting multiple target variables."
   ]
  },
  {
   "cell_type": "code",
   "execution_count": 9,
   "id": "7a834b73",
   "metadata": {},
   "outputs": [],
   "source": [
    "def model_pipeline():\n",
    "\n",
    "    pipeline = Pipeline([\n",
    "\n",
    "        ('vect', CountVectorizer(tokenizer=tokenize)),\n",
    "        ('tfidf', TfidfTransformer()),\n",
    "        ('clf', MultiOutputClassifier(RandomForestClassifier()))\n",
    "    ])\n",
    "    return pipeline"
   ]
  },
  {
   "cell_type": "markdown",
   "id": "5d52777d",
   "metadata": {},
   "source": [
    "### 4. Train pipeline\n",
    "- Split data into train and test sets\n",
    "- Train pipeline"
   ]
  },
  {
   "cell_type": "code",
   "execution_count": 10,
   "id": "c3223669",
   "metadata": {},
   "outputs": [],
   "source": [
    "y_labels = Y.columns"
   ]
  },
  {
   "cell_type": "code",
   "execution_count": 11,
   "id": "65679596",
   "metadata": {},
   "outputs": [
    {
     "data": {
      "text/plain": [
       "array(['related', 'request', 'offer', 'aid_related', 'medical_help',\n",
       "       'medical_products', 'search_and_rescue', 'security', 'military',\n",
       "       'water', 'food', 'shelter', 'clothing', 'money', 'missing_people',\n",
       "       'refugees', 'death', 'other_aid', 'infrastructure_related',\n",
       "       'transport', 'buildings', 'electricity', 'tools', 'hospitals',\n",
       "       'shops', 'aid_centers', 'other_infrastructure', 'weather_related',\n",
       "       'floods', 'storm', 'fire', 'earthquake', 'cold', 'other_weather',\n",
       "       'direct_report'], dtype=object)"
      ]
     },
     "execution_count": 11,
     "metadata": {},
     "output_type": "execute_result"
    }
   ],
   "source": [
    "y_labels.values"
   ]
  },
  {
   "cell_type": "code",
   "execution_count": 12,
   "id": "c655a9ad",
   "metadata": {},
   "outputs": [],
   "source": [
    "X_train, X_test, y_train, y_test = train_test_split(X, Y)"
   ]
  },
  {
   "cell_type": "code",
   "execution_count": 13,
   "id": "d59e2c49",
   "metadata": {},
   "outputs": [],
   "source": [
    "model = model_pipeline()\n",
    "fit_model = model.fit(X_train, y_train)"
   ]
  },
  {
   "cell_type": "markdown",
   "id": "edf21189",
   "metadata": {},
   "source": [
    "### 5. Test your model\n",
    "Report the f1 score, precision and recall for each output category of the dataset. You can do this by iterating through the columns and calling sklearn's `classification_report` on each."
   ]
  },
  {
   "cell_type": "code",
   "execution_count": 14,
   "id": "ffed3825",
   "metadata": {},
   "outputs": [],
   "source": [
    "y_pred_train = fit_model.predict(X_train)\n",
    "y_pred_test = fit_model.predict(X_test)\n",
    "#y_pred = pd.DataFrame(y_pred, columns=y_labels)"
   ]
  },
  {
   "cell_type": "code",
   "execution_count": 15,
   "id": "c5db34fe",
   "metadata": {},
   "outputs": [
    {
     "name": "stdout",
     "output_type": "stream",
     "text": [
      "                        precision    recall  f1-score   support\n",
      "\n",
      "               related       0.83      0.94      0.88      5017\n",
      "               request       0.85      0.39      0.53      1108\n",
      "                 offer       0.00      0.00      0.00        37\n",
      "           aid_related       0.76      0.51      0.61      2737\n",
      "          medical_help       0.57      0.07      0.13       535\n",
      "      medical_products       0.66      0.07      0.12       352\n",
      "     search_and_rescue       0.40      0.01      0.02       204\n",
      "              security       0.00      0.00      0.00       130\n",
      "              military       0.57      0.05      0.10       223\n",
      "                 water       0.91      0.18      0.30       392\n",
      "                  food       0.84      0.37      0.52       746\n",
      "               shelter       0.79      0.20      0.32       572\n",
      "              clothing       0.82      0.10      0.18        90\n",
      "                 money       1.00      0.02      0.05       165\n",
      "        missing_people       0.31      0.07      0.11        72\n",
      "              refugees       0.54      0.03      0.06       210\n",
      "                 death       0.87      0.11      0.19       318\n",
      "             other_aid       0.53      0.05      0.09       834\n",
      "infrastructure_related       0.11      0.00      0.00       421\n",
      "             transport       0.77      0.06      0.12       316\n",
      "             buildings       0.77      0.11      0.19       338\n",
      "           electricity       1.00      0.02      0.04       145\n",
      "                 tools       0.00      0.00      0.00        40\n",
      "             hospitals       0.00      0.00      0.00        75\n",
      "                 shops       0.00      0.00      0.00        36\n",
      "           aid_centers       0.00      0.00      0.00        75\n",
      "  other_infrastructure       0.50      0.01      0.02       274\n",
      "       weather_related       0.85      0.52      0.64      1849\n",
      "                floods       0.88      0.31      0.46       547\n",
      "                 storm       0.75      0.32      0.45       592\n",
      "                  fire       0.00      0.00      0.00        79\n",
      "            earthquake       0.89      0.68      0.77       642\n",
      "                  cold       0.80      0.09      0.17       127\n",
      "         other_weather       0.56      0.04      0.08       341\n",
      "         direct_report       0.78      0.33      0.47      1256\n",
      "\n",
      "           avg / total       0.75      0.45      0.51     20895\n",
      "\n"
     ]
    },
    {
     "name": "stderr",
     "output_type": "stream",
     "text": [
      "/opt/conda/lib/python3.6/site-packages/sklearn/metrics/classification.py:1135: UndefinedMetricWarning: Precision and F-score are ill-defined and being set to 0.0 in labels with no predicted samples.\n",
      "  'precision', 'predicted', average, warn_for)\n"
     ]
    }
   ],
   "source": [
    "print(classification_report(y_test.values, y_pred_test, target_names=y_labels.values))"
   ]
  },
  {
   "cell_type": "code",
   "execution_count": 16,
   "id": "f18e2e43",
   "metadata": {},
   "outputs": [
    {
     "name": "stdout",
     "output_type": "stream",
     "text": [
      "                        precision    recall  f1-score   support\n",
      "\n",
      "               related       0.99      1.00      0.99     15077\n",
      "               request       1.00      0.93      0.96      3366\n",
      "                 offer       1.00      0.70      0.83        81\n",
      "           aid_related       1.00      0.97      0.98      8123\n",
      "          medical_help       1.00      0.87      0.93      1549\n",
      "      medical_products       1.00      0.82      0.90       961\n",
      "     search_and_rescue       1.00      0.77      0.87       520\n",
      "              security       1.00      0.72      0.84       341\n",
      "              military       1.00      0.85      0.92       637\n",
      "                 water       1.00      0.88      0.94      1280\n",
      "                  food       1.00      0.95      0.97      2177\n",
      "               shelter       1.00      0.91      0.95      1742\n",
      "              clothing       1.00      0.83      0.91       315\n",
      "                 money       1.00      0.83      0.91       439\n",
      "        missing_people       0.99      0.77      0.86       226\n",
      "              refugees       1.00      0.81      0.89       665\n",
      "                 death       1.00      0.87      0.93       876\n",
      "             other_aid       1.00      0.84      0.92      2612\n",
      "infrastructure_related       1.00      0.79      0.88      1284\n",
      "             transport       1.00      0.82      0.90       885\n",
      "             buildings       1.00      0.86      0.93       995\n",
      "           electricity       1.00      0.78      0.88       387\n",
      "                 tools       1.00      0.76      0.86       119\n",
      "             hospitals       1.00      0.75      0.86       208\n",
      "                 shops       1.00      0.81      0.89        84\n",
      "           aid_centers       1.00      0.73      0.84       234\n",
      "  other_infrastructure       1.00      0.77      0.87       877\n",
      "       weather_related       1.00      0.95      0.97      5448\n",
      "                floods       1.00      0.89      0.94      1608\n",
      "                 storm       1.00      0.94      0.97      1851\n",
      "                  fire       1.00      0.75      0.86       203\n",
      "            earthquake       1.00      0.96      0.98      1813\n",
      "                  cold       1.00      0.84      0.91       403\n",
      "         other_weather       1.00      0.82      0.90      1035\n",
      "         direct_report       1.00      0.92      0.96      3819\n",
      "\n",
      "           avg / total       1.00      0.92      0.96     62240\n",
      "\n"
     ]
    }
   ],
   "source": [
    "print(classification_report(y_train.values, y_pred_train, target_names=y_labels.values))"
   ]
  },
  {
   "cell_type": "markdown",
   "id": "07aecac8",
   "metadata": {},
   "source": [
    "### 6. Improve your model\n",
    "Use grid search to find better parameters. "
   ]
  },
  {
   "cell_type": "code",
   "execution_count": 17,
   "id": "685c660d",
   "metadata": {
    "scrolled": true
   },
   "outputs": [
    {
     "data": {
      "text/plain": [
       "{'memory': None,\n",
       " 'steps': [('vect',\n",
       "   CountVectorizer(analyzer='word', binary=False, decode_error='strict',\n",
       "           dtype=<class 'numpy.int64'>, encoding='utf-8', input='content',\n",
       "           lowercase=True, max_df=1.0, max_features=None, min_df=1,\n",
       "           ngram_range=(1, 1), preprocessor=None, stop_words=None,\n",
       "           strip_accents=None, token_pattern='(?u)\\\\b\\\\w\\\\w+\\\\b',\n",
       "           tokenizer=<function tokenize at 0x7fbd8ce1a400>, vocabulary=None)),\n",
       "  ('tfidf',\n",
       "   TfidfTransformer(norm='l2', smooth_idf=True, sublinear_tf=False, use_idf=True)),\n",
       "  ('clf',\n",
       "   MultiOutputClassifier(estimator=RandomForestClassifier(bootstrap=True, class_weight=None, criterion='gini',\n",
       "               max_depth=None, max_features='auto', max_leaf_nodes=None,\n",
       "               min_impurity_decrease=0.0, min_impurity_split=None,\n",
       "               min_samples_leaf=1, min_samples_split=2,\n",
       "               min_weight_fraction_leaf=0.0, n_estimators=10, n_jobs=1,\n",
       "               oob_score=False, random_state=None, verbose=0,\n",
       "               warm_start=False),\n",
       "              n_jobs=1))],\n",
       " 'vect': CountVectorizer(analyzer='word', binary=False, decode_error='strict',\n",
       "         dtype=<class 'numpy.int64'>, encoding='utf-8', input='content',\n",
       "         lowercase=True, max_df=1.0, max_features=None, min_df=1,\n",
       "         ngram_range=(1, 1), preprocessor=None, stop_words=None,\n",
       "         strip_accents=None, token_pattern='(?u)\\\\b\\\\w\\\\w+\\\\b',\n",
       "         tokenizer=<function tokenize at 0x7fbd8ce1a400>, vocabulary=None),\n",
       " 'tfidf': TfidfTransformer(norm='l2', smooth_idf=True, sublinear_tf=False, use_idf=True),\n",
       " 'clf': MultiOutputClassifier(estimator=RandomForestClassifier(bootstrap=True, class_weight=None, criterion='gini',\n",
       "             max_depth=None, max_features='auto', max_leaf_nodes=None,\n",
       "             min_impurity_decrease=0.0, min_impurity_split=None,\n",
       "             min_samples_leaf=1, min_samples_split=2,\n",
       "             min_weight_fraction_leaf=0.0, n_estimators=10, n_jobs=1,\n",
       "             oob_score=False, random_state=None, verbose=0,\n",
       "             warm_start=False),\n",
       "            n_jobs=1),\n",
       " 'vect__analyzer': 'word',\n",
       " 'vect__binary': False,\n",
       " 'vect__decode_error': 'strict',\n",
       " 'vect__dtype': numpy.int64,\n",
       " 'vect__encoding': 'utf-8',\n",
       " 'vect__input': 'content',\n",
       " 'vect__lowercase': True,\n",
       " 'vect__max_df': 1.0,\n",
       " 'vect__max_features': None,\n",
       " 'vect__min_df': 1,\n",
       " 'vect__ngram_range': (1, 1),\n",
       " 'vect__preprocessor': None,\n",
       " 'vect__stop_words': None,\n",
       " 'vect__strip_accents': None,\n",
       " 'vect__token_pattern': '(?u)\\\\b\\\\w\\\\w+\\\\b',\n",
       " 'vect__tokenizer': <function __main__.tokenize(text)>,\n",
       " 'vect__vocabulary': None,\n",
       " 'tfidf__norm': 'l2',\n",
       " 'tfidf__smooth_idf': True,\n",
       " 'tfidf__sublinear_tf': False,\n",
       " 'tfidf__use_idf': True,\n",
       " 'clf__estimator__bootstrap': True,\n",
       " 'clf__estimator__class_weight': None,\n",
       " 'clf__estimator__criterion': 'gini',\n",
       " 'clf__estimator__max_depth': None,\n",
       " 'clf__estimator__max_features': 'auto',\n",
       " 'clf__estimator__max_leaf_nodes': None,\n",
       " 'clf__estimator__min_impurity_decrease': 0.0,\n",
       " 'clf__estimator__min_impurity_split': None,\n",
       " 'clf__estimator__min_samples_leaf': 1,\n",
       " 'clf__estimator__min_samples_split': 2,\n",
       " 'clf__estimator__min_weight_fraction_leaf': 0.0,\n",
       " 'clf__estimator__n_estimators': 10,\n",
       " 'clf__estimator__n_jobs': 1,\n",
       " 'clf__estimator__oob_score': False,\n",
       " 'clf__estimator__random_state': None,\n",
       " 'clf__estimator__verbose': 0,\n",
       " 'clf__estimator__warm_start': False,\n",
       " 'clf__estimator': RandomForestClassifier(bootstrap=True, class_weight=None, criterion='gini',\n",
       "             max_depth=None, max_features='auto', max_leaf_nodes=None,\n",
       "             min_impurity_decrease=0.0, min_impurity_split=None,\n",
       "             min_samples_leaf=1, min_samples_split=2,\n",
       "             min_weight_fraction_leaf=0.0, n_estimators=10, n_jobs=1,\n",
       "             oob_score=False, random_state=None, verbose=0,\n",
       "             warm_start=False),\n",
       " 'clf__n_jobs': 1}"
      ]
     },
     "execution_count": 17,
     "metadata": {},
     "output_type": "execute_result"
    }
   ],
   "source": [
    "fit_model.get_params()"
   ]
  },
  {
   "cell_type": "code",
   "execution_count": 18,
   "id": "49f34a48",
   "metadata": {},
   "outputs": [],
   "source": [
    "parameters = [\n",
    "    {\n",
    "        'clf__estimator__n_estimators': [10, 20],\n",
    "        'vect__max_df': (0.5, 1.0),\n",
    "        #'clf__estimator__criterion': ('gini', 'entropy'),\n",
    "        #'clf__estimator__min_samples_split': (2, 3)\n",
    "    }\n",
    "]\n",
    "\n",
    "cv = GridSearchCV(fit_model, param_grid=parameters, scoring='f1_micro', n_jobs=4, verbose=2)"
   ]
  },
  {
   "cell_type": "code",
   "execution_count": 19,
   "id": "4c230b22",
   "metadata": {},
   "outputs": [
    {
     "name": "stdout",
     "output_type": "stream",
     "text": [
      "Fitting 3 folds for each of 4 candidates, totalling 12 fits\n",
      "[CV] clf__estimator__n_estimators=10, vect__max_df=0.5 ...............\n",
      "[CV] clf__estimator__n_estimators=10, vect__max_df=0.5 ...............\n",
      "[CV] clf__estimator__n_estimators=10, vect__max_df=0.5 ...............\n",
      "[CV] clf__estimator__n_estimators=10, vect__max_df=1.0 ...............\n",
      "[CV]  clf__estimator__n_estimators=10, vect__max_df=1.0, total= 3.6min\n",
      "[CV] clf__estimator__n_estimators=10, vect__max_df=1.0 ...............\n",
      "[CV]  clf__estimator__n_estimators=10, vect__max_df=0.5, total= 3.6min\n",
      "[CV] clf__estimator__n_estimators=10, vect__max_df=1.0 ...............\n",
      "[CV]  clf__estimator__n_estimators=10, vect__max_df=0.5, total= 3.7min\n",
      "[CV] clf__estimator__n_estimators=20, vect__max_df=0.5 ...............\n",
      "[CV]  clf__estimator__n_estimators=10, vect__max_df=0.5, total= 3.8min\n",
      "[CV] clf__estimator__n_estimators=20, vect__max_df=0.5 ...............\n",
      "[CV]  clf__estimator__n_estimators=10, vect__max_df=1.0, total= 3.3min\n",
      "[CV] clf__estimator__n_estimators=20, vect__max_df=0.5 ...............\n",
      "[CV]  clf__estimator__n_estimators=10, vect__max_df=1.0, total= 3.4min\n",
      "[CV] clf__estimator__n_estimators=20, vect__max_df=1.0 ...............\n",
      "[CV]  clf__estimator__n_estimators=20, vect__max_df=0.5, total= 5.8min\n",
      "[CV] clf__estimator__n_estimators=20, vect__max_df=1.0 ...............\n",
      "[CV]  clf__estimator__n_estimators=20, vect__max_df=0.5, total= 6.0min\n",
      "[CV] clf__estimator__n_estimators=20, vect__max_df=1.0 ...............\n",
      "[CV]  clf__estimator__n_estimators=20, vect__max_df=1.0, total= 5.7min\n",
      "[CV]  clf__estimator__n_estimators=20, vect__max_df=0.5, total= 5.8min\n",
      "[CV]  clf__estimator__n_estimators=20, vect__max_df=1.0, total= 4.9min\n",
      "[CV]  clf__estimator__n_estimators=20, vect__max_df=1.0, total= 4.7min\n"
     ]
    },
    {
     "name": "stderr",
     "output_type": "stream",
     "text": [
      "[Parallel(n_jobs=4)]: Done  12 out of  12 | elapsed: 16.7min remaining:    0.0s\n",
      "[Parallel(n_jobs=4)]: Done  12 out of  12 | elapsed: 16.7min finished\n"
     ]
    },
    {
     "data": {
      "text/plain": [
       "GridSearchCV(cv=None, error_score='raise',\n",
       "       estimator=Pipeline(memory=None,\n",
       "     steps=[('vect', CountVectorizer(analyzer='word', binary=False, decode_error='strict',\n",
       "        dtype=<class 'numpy.int64'>, encoding='utf-8', input='content',\n",
       "        lowercase=True, max_df=1.0, max_features=None, min_df=1,\n",
       "        ngram_range=(1, 1), preprocessor=None, stop_words=None,\n",
       "        strip...oob_score=False, random_state=None, verbose=0,\n",
       "            warm_start=False),\n",
       "           n_jobs=1))]),\n",
       "       fit_params=None, iid=True, n_jobs=4,\n",
       "       param_grid=[{'clf__estimator__n_estimators': [10, 20], 'vect__max_df': (0.5, 1.0)}],\n",
       "       pre_dispatch='2*n_jobs', refit=True, return_train_score='warn',\n",
       "       scoring='f1_micro', verbose=2)"
      ]
     },
     "execution_count": 19,
     "metadata": {},
     "output_type": "execute_result"
    }
   ],
   "source": [
    "cv.fit(X_train, y_train)"
   ]
  },
  {
   "cell_type": "markdown",
   "id": "0141fa5c",
   "metadata": {},
   "source": [
    "### 7. Test your model\n",
    "Show the accuracy, precision, and recall of the tuned model.  \n",
    "\n",
    "Since this project focuses on code quality, process, and  pipelines, there is no minimum performance metric needed to pass. However, make sure to fine tune your models for accuracy, precision and recall to make your project stand out - especially for your portfolio!"
   ]
  },
  {
   "cell_type": "code",
   "execution_count": 20,
   "id": "1c120e9f",
   "metadata": {},
   "outputs": [],
   "source": [
    "y_pred_train = cv.predict(X_train)\n",
    "y_pred_test = cv.predict(X_test)"
   ]
  },
  {
   "cell_type": "code",
   "execution_count": 21,
   "id": "6fdd60af",
   "metadata": {},
   "outputs": [
    {
     "name": "stdout",
     "output_type": "stream",
     "text": [
      "                        precision    recall  f1-score   support\n",
      "\n",
      "               related       0.82      0.96      0.88      5017\n",
      "               request       0.86      0.42      0.56      1108\n",
      "                 offer       0.00      0.00      0.00        37\n",
      "           aid_related       0.77      0.59      0.67      2737\n",
      "          medical_help       0.64      0.07      0.13       535\n",
      "      medical_products       0.64      0.04      0.07       352\n",
      "     search_and_rescue       0.56      0.02      0.05       204\n",
      "              security       1.00      0.01      0.02       130\n",
      "              military       0.68      0.06      0.11       223\n",
      "                 water       0.86      0.36      0.51       392\n",
      "                  food       0.84      0.39      0.53       746\n",
      "               shelter       0.88      0.24      0.38       572\n",
      "              clothing       0.78      0.08      0.14        90\n",
      "                 money       1.00      0.03      0.06       165\n",
      "        missing_people       1.00      0.01      0.03        72\n",
      "              refugees       0.77      0.05      0.09       210\n",
      "                 death       0.92      0.15      0.25       318\n",
      "             other_aid       0.62      0.04      0.07       834\n",
      "infrastructure_related       0.00      0.00      0.00       421\n",
      "             transport       0.69      0.07      0.13       316\n",
      "             buildings       0.88      0.04      0.08       338\n",
      "           electricity       0.75      0.02      0.04       145\n",
      "                 tools       0.00      0.00      0.00        40\n",
      "             hospitals       0.00      0.00      0.00        75\n",
      "                 shops       0.00      0.00      0.00        36\n",
      "           aid_centers       0.00      0.00      0.00        75\n",
      "  other_infrastructure       0.25      0.00      0.01       274\n",
      "       weather_related       0.86      0.59      0.70      1849\n",
      "                floods       0.89      0.33      0.48       547\n",
      "                 storm       0.79      0.36      0.50       592\n",
      "                  fire       0.00      0.00      0.00        79\n",
      "            earthquake       0.88      0.68      0.77       642\n",
      "                  cold       0.67      0.09      0.17       127\n",
      "         other_weather       0.52      0.04      0.08       341\n",
      "         direct_report       0.85      0.35      0.49      1256\n",
      "\n",
      "           avg / total       0.77      0.48      0.53     20895\n",
      "\n"
     ]
    },
    {
     "name": "stderr",
     "output_type": "stream",
     "text": [
      "/opt/conda/lib/python3.6/site-packages/sklearn/metrics/classification.py:1135: UndefinedMetricWarning: Precision and F-score are ill-defined and being set to 0.0 in labels with no predicted samples.\n",
      "  'precision', 'predicted', average, warn_for)\n"
     ]
    }
   ],
   "source": [
    "print(classification_report(y_test.values, y_pred_test, target_names=y_labels))"
   ]
  },
  {
   "cell_type": "code",
   "execution_count": 22,
   "id": "aa90a7fb",
   "metadata": {},
   "outputs": [
    {
     "name": "stdout",
     "output_type": "stream",
     "text": [
      "                        precision    recall  f1-score   support\n",
      "\n",
      "               related       1.00      1.00      1.00     15077\n",
      "               request       1.00      0.98      0.99      3366\n",
      "                 offer       1.00      0.75      0.86        81\n",
      "           aid_related       1.00      0.99      1.00      8123\n",
      "          medical_help       1.00      0.93      0.96      1549\n",
      "      medical_products       1.00      0.93      0.96       961\n",
      "     search_and_rescue       1.00      0.90      0.95       520\n",
      "              security       1.00      0.82      0.90       341\n",
      "              military       1.00      0.92      0.96       637\n",
      "                 water       1.00      0.97      0.99      1280\n",
      "                  food       1.00      0.99      0.99      2177\n",
      "               shelter       1.00      0.96      0.98      1742\n",
      "              clothing       1.00      0.95      0.97       315\n",
      "                 money       1.00      0.92      0.96       439\n",
      "        missing_people       1.00      0.89      0.94       226\n",
      "              refugees       1.00      0.93      0.96       665\n",
      "                 death       1.00      0.95      0.98       876\n",
      "             other_aid       1.00      0.94      0.97      2612\n",
      "infrastructure_related       1.00      0.89      0.94      1284\n",
      "             transport       1.00      0.91      0.95       885\n",
      "             buildings       1.00      0.94      0.97       995\n",
      "           electricity       1.00      0.92      0.96       387\n",
      "                 tools       1.00      0.85      0.92       119\n",
      "             hospitals       1.00      0.88      0.94       208\n",
      "                 shops       1.00      0.89      0.94        84\n",
      "           aid_centers       1.00      0.87      0.93       234\n",
      "  other_infrastructure       1.00      0.89      0.94       877\n",
      "       weather_related       1.00      0.99      0.99      5448\n",
      "                floods       1.00      0.95      0.97      1608\n",
      "                 storm       1.00      0.98      0.99      1851\n",
      "                  fire       1.00      0.92      0.96       203\n",
      "            earthquake       1.00      0.98      0.99      1813\n",
      "                  cold       1.00      0.95      0.98       403\n",
      "         other_weather       1.00      0.92      0.96      1035\n",
      "         direct_report       1.00      0.97      0.99      3819\n",
      "\n",
      "           avg / total       1.00      0.97      0.98     62240\n",
      "\n"
     ]
    }
   ],
   "source": [
    "print(classification_report(y_train.values, y_pred_train, target_names=y_labels.values))"
   ]
  },
  {
   "cell_type": "markdown",
   "id": "26b9570a",
   "metadata": {},
   "source": [
    "### 8. Try improving your model further. Here are a few ideas:\n",
    "* try other machine learning algorithms\n",
    "* add other features besides the TF-IDF"
   ]
  },
  {
   "cell_type": "code",
   "execution_count": 23,
   "id": "404ce8ed",
   "metadata": {},
   "outputs": [],
   "source": [
    "class StartingVerbExtractor(BaseEstimator, TransformerMixin):\n",
    "\n",
    "    def starting_verb(self, text):\n",
    "        # tokenize by sentences\n",
    "        sentence_list = nltk.sent_tokenize(text)\n",
    "        \n",
    "        for sentence in sentence_list:\n",
    "            # tokenize each sentence into words and tag part of speech\n",
    "            pos_tags = nltk.pos_tag(tokenize(sentence))\n",
    "            \n",
    "            # index pos_tags to get the first word and part of speech tag\n",
    "            first_word, first_tag = pos_tags[0]\n",
    "            \n",
    "            # return true if the first word is an appropriate verb or RT for retweet\n",
    "            if first_tag in ['VB', 'VBP'] or first_word == 'RT':\n",
    "\n",
    "                return True\n",
    "        return False\n",
    "\n",
    "    def fit(self, x, y=None):\n",
    "        return self\n",
    "\n",
    "    def transform(self, X):\n",
    "        # apply starting_verb function to all values in X\n",
    "        X_tagged = pd.Series(X).apply(self.starting_verb)\n",
    "\n",
    "        return pd.DataFrame(X_tagged)"
   ]
  },
  {
   "cell_type": "code",
   "execution_count": 24,
   "id": "de88ec86",
   "metadata": {},
   "outputs": [],
   "source": [
    "def model_pipeline2():\n",
    "    pipeline = Pipeline([\n",
    "        \n",
    "            ('features', FeatureUnion([\n",
    "\n",
    "                ('text_pipeline', Pipeline([\n",
    "                    ('count_vectorizer', CountVectorizer(tokenizer=tokenize)),\n",
    "                    ('tfidf_transformer', TfidfTransformer())\n",
    "                ])),\n",
    "\n",
    "                ('starting_verb_transformer', StartingVerbExtractor())\n",
    "            ])),\n",
    "        \n",
    "            ('classifier', MultiOutputClassifier(AdaBoostClassifier()))\n",
    "    ])\n",
    "    return pipeline"
   ]
  },
  {
   "cell_type": "code",
   "execution_count": 25,
   "id": "bbd903c4",
   "metadata": {},
   "outputs": [],
   "source": [
    "X_train, X_test, y_train, y_test = train_test_split(X, Y)"
   ]
  },
  {
   "cell_type": "code",
   "execution_count": 26,
   "id": "aecda9d6",
   "metadata": {},
   "outputs": [],
   "source": [
    "model = model_pipeline2()\n",
    "fit_model2 = model.fit(X_train, y_train)"
   ]
  },
  {
   "cell_type": "code",
   "execution_count": 27,
   "id": "9e2c8b81",
   "metadata": {},
   "outputs": [],
   "source": [
    "y_pred_train = fit_model2.predict(X_train)\n",
    "y_pred_test = fit_model2.predict(X_test)"
   ]
  },
  {
   "cell_type": "code",
   "execution_count": 28,
   "id": "f9e4e88d",
   "metadata": {},
   "outputs": [
    {
     "name": "stdout",
     "output_type": "stream",
     "text": [
      "                        precision    recall  f1-score   support\n",
      "\n",
      "               related       0.83      0.94      0.88      5032\n",
      "               request       0.77      0.55      0.64      1112\n",
      "                 offer       0.00      0.00      0.00        33\n",
      "           aid_related       0.76      0.59      0.66      2685\n",
      "          medical_help       0.53      0.25      0.34       480\n",
      "      medical_products       0.69      0.35      0.46       329\n",
      "     search_and_rescue       0.60      0.21      0.31       173\n",
      "              security       0.28      0.07      0.11       106\n",
      "              military       0.62      0.33      0.43       230\n",
      "                 water       0.76      0.66      0.71       434\n",
      "                  food       0.80      0.70      0.75       724\n",
      "               shelter       0.80      0.55      0.65       565\n",
      "              clothing       0.65      0.55      0.60        97\n",
      "                 money       0.52      0.29      0.38       170\n",
      "        missing_people       0.73      0.22      0.34        72\n",
      "              refugees       0.56      0.24      0.33       230\n",
      "                 death       0.80      0.46      0.58       309\n",
      "             other_aid       0.56      0.16      0.25       876\n",
      "infrastructure_related       0.42      0.10      0.16       409\n",
      "             transport       0.66      0.20      0.30       296\n",
      "             buildings       0.65      0.38      0.48       302\n",
      "           electricity       0.57      0.27      0.36       124\n",
      "                 tools       0.17      0.06      0.08        36\n",
      "             hospitals       0.22      0.07      0.10        60\n",
      "                 shops       0.00      0.00      0.00        24\n",
      "           aid_centers       0.28      0.12      0.16        78\n",
      "  other_infrastructure       0.37      0.09      0.14       284\n",
      "       weather_related       0.85      0.67      0.75      1798\n",
      "                floods       0.86      0.53      0.65       527\n",
      "                 storm       0.75      0.55      0.63       620\n",
      "                  fire       0.62      0.24      0.35        75\n",
      "            earthquake       0.88      0.77      0.82       596\n",
      "                  cold       0.63      0.28      0.38       138\n",
      "         other_weather       0.54      0.18      0.27       333\n",
      "         direct_report       0.73      0.51      0.60      1268\n",
      "\n",
      "           avg / total       0.74      0.59      0.64     20625\n",
      "\n"
     ]
    }
   ],
   "source": [
    "print(classification_report(y_test.values, y_pred_test, target_names=y_labels))"
   ]
  },
  {
   "cell_type": "code",
   "execution_count": 29,
   "id": "08e1fe18",
   "metadata": {
    "scrolled": true
   },
   "outputs": [
    {
     "name": "stdout",
     "output_type": "stream",
     "text": [
      "                        precision    recall  f1-score   support\n",
      "\n",
      "               related       0.83      0.95      0.88     15062\n",
      "               request       0.79      0.53      0.64      3362\n",
      "                 offer       0.38      0.09      0.15        85\n",
      "           aid_related       0.78      0.60      0.68      8175\n",
      "          medical_help       0.67      0.30      0.41      1604\n",
      "      medical_products       0.69      0.33      0.45       984\n",
      "     search_and_rescue       0.68      0.22      0.33       551\n",
      "              security       0.50      0.07      0.13       365\n",
      "              military       0.70      0.37      0.49       630\n",
      "                 water       0.77      0.66      0.71      1238\n",
      "                  food       0.82      0.70      0.76      2199\n",
      "               shelter       0.80      0.55      0.65      1749\n",
      "              clothing       0.77      0.48      0.59       308\n",
      "                 money       0.65      0.33      0.44       434\n",
      "        missing_people       0.75      0.17      0.28       226\n",
      "              refugees       0.62      0.26      0.37       645\n",
      "                 death       0.77      0.47      0.58       885\n",
      "             other_aid       0.55      0.16      0.25      2570\n",
      "infrastructure_related       0.51      0.11      0.18      1296\n",
      "             transport       0.76      0.25      0.38       905\n",
      "             buildings       0.71      0.43      0.54      1031\n",
      "           electricity       0.71      0.35      0.47       408\n",
      "                 tools       0.45      0.07      0.13       123\n",
      "             hospitals       0.46      0.13      0.20       223\n",
      "                 shops       0.58      0.07      0.13        96\n",
      "           aid_centers       0.49      0.15      0.23       231\n",
      "  other_infrastructure       0.49      0.12      0.19       867\n",
      "       weather_related       0.86      0.66      0.75      5499\n",
      "                floods       0.90      0.55      0.68      1628\n",
      "                 storm       0.77      0.56      0.65      1823\n",
      "                  fire       0.71      0.23      0.35       207\n",
      "            earthquake       0.89      0.76      0.82      1859\n",
      "                  cold       0.73      0.38      0.50       392\n",
      "         other_weather       0.55      0.17      0.26      1043\n",
      "         direct_report       0.75      0.47      0.58      3807\n",
      "\n",
      "           avg / total       0.77      0.59      0.65     62510\n",
      "\n"
     ]
    }
   ],
   "source": [
    "print(classification_report(y_train.values, y_pred_train, target_names=y_labels))"
   ]
  },
  {
   "cell_type": "code",
   "execution_count": null,
   "id": "a4f4f7e5",
   "metadata": {},
   "outputs": [],
   "source": []
  },
  {
   "cell_type": "markdown",
   "id": "ca7dee81",
   "metadata": {},
   "source": [
    "### 9. Export your model as a pickle file"
   ]
  },
  {
   "cell_type": "code",
   "execution_count": 30,
   "id": "435c6a8f",
   "metadata": {},
   "outputs": [],
   "source": [
    "model_pkl = pickle.dumps('classifier.pkl')"
   ]
  },
  {
   "cell_type": "code",
   "execution_count": null,
   "id": "34f89ab3",
   "metadata": {},
   "outputs": [],
   "source": []
  },
  {
   "cell_type": "markdown",
   "id": "3424a529",
   "metadata": {},
   "source": [
    "### 10. Use this notebook to complete `train_classifier.py`\n",
    "Use the template file attached in the Resources folder to write a script that runs the steps above to create a database and export a model based on a new dataset specified by the user."
   ]
  },
  {
   "cell_type": "code",
   "execution_count": null,
   "id": "da848455",
   "metadata": {},
   "outputs": [],
   "source": []
  },
  {
   "cell_type": "code",
   "execution_count": null,
   "id": "41709efa",
   "metadata": {},
   "outputs": [],
   "source": []
  }
 ],
 "metadata": {
  "kernelspec": {
   "display_name": "Python 3",
   "language": "python",
   "name": "python3"
  },
  "language_info": {
   "codemirror_mode": {
    "name": "ipython",
    "version": 3
   },
   "file_extension": ".py",
   "mimetype": "text/x-python",
   "name": "python",
   "nbconvert_exporter": "python",
   "pygments_lexer": "ipython3",
   "version": "3.7.10"
  }
 },
 "nbformat": 4,
 "nbformat_minor": 5
}
