{
 "cells": [
  {
   "cell_type": "markdown",
   "id": "38980510",
   "metadata": {},
   "source": [
    "# ML Pipeline Preparation\n",
    "Follow the instructions below to help you create your ML pipeline.\n",
    "### 1. Import libraries and load data from database.\n",
    "- Import Python libraries\n",
    "- Load dataset from database with [`read_sql_table`](https://pandas.pydata.org/pandas-docs/stable/generated/pandas.read_sql_table.html)\n",
    "- Define feature and target variables X and Y"
   ]
  },
  {
   "cell_type": "code",
   "execution_count": 1,
   "id": "2bd7375d",
   "metadata": {},
   "outputs": [
    {
     "name": "stdout",
     "output_type": "stream",
     "text": [
      "[nltk_data] Downloading package punkt to /root/nltk_data...\n",
      "[nltk_data]   Unzipping tokenizers/punkt.zip.\n",
      "[nltk_data] Downloading package wordnet to /root/nltk_data...\n",
      "[nltk_data]   Unzipping corpora/wordnet.zip.\n",
      "[nltk_data] Downloading package averaged_perceptron_tagger to\n",
      "[nltk_data]     /root/nltk_data...\n",
      "[nltk_data]   Unzipping taggers/averaged_perceptron_tagger.zip.\n"
     ]
    }
   ],
   "source": [
    "# import libraries\n",
    "import pandas as pd\n",
    "import numpy as np\n",
    "from sqlalchemy import create_engine\n",
    "from sqlite3 import connect\n",
    "from sklearn.metrics import classification_report\n",
    "\n",
    "import sys\n",
    "import os\n",
    "import re\n",
    "import pickle\n",
    "\n",
    "from nltk.tokenize import word_tokenize\n",
    "from nltk.corpus import stopwords\n",
    "from nltk.tokenize import sent_tokenize\n",
    "from nltk.stem.wordnet import WordNetLemmatizer\n",
    "\n",
    "from sklearn.pipeline import Pipeline, FeatureUnion\n",
    "from sklearn.metrics import confusion_matrix\n",
    "from sklearn.model_selection import train_test_split\n",
    "from sklearn.feature_extraction.text import CountVectorizer, TfidfTransformer\n",
    "from sklearn.base import BaseEstimator, TransformerMixin\n",
    "\n",
    "from sklearn.datasets import make_multilabel_classification\n",
    "from sklearn.multioutput import MultiOutputClassifier\n",
    "from sklearn.ensemble import RandomForestClassifier, AdaBoostClassifier\n",
    "from sklearn.model_selection import GridSearchCV\n",
    "from sklearn.metrics import classification_report\n",
    "\n",
    "import nltk\n",
    "nltk.download('punkt')\n",
    "nltk.download('wordnet')\n",
    "nltk.download('averaged_perceptron_tagger')\n",
    "\n",
    "pd.set_option('display.max_columns', None)"
   ]
  },
  {
   "cell_type": "code",
   "execution_count": 2,
   "id": "4da1a358",
   "metadata": {},
   "outputs": [],
   "source": [
    "engine = create_engine('sqlite:///InsertDatabaseName.db')"
   ]
  },
  {
   "cell_type": "code",
   "execution_count": 3,
   "id": "c4ca59b7",
   "metadata": {},
   "outputs": [
    {
     "data": {
      "text/plain": [
       "['InsertTableName']"
      ]
     },
     "execution_count": 3,
     "metadata": {},
     "output_type": "execute_result"
    }
   ],
   "source": [
    "engine.table_names()"
   ]
  },
  {
   "cell_type": "code",
   "execution_count": 4,
   "id": "fd718d96",
   "metadata": {},
   "outputs": [],
   "source": [
    "# load data from database\n",
    "engine = create_engine('sqlite:///InsertDatabaseName.db')\n",
    "df = pd.read_sql_table(\"InsertTableName\",engine)\n",
    "df['related'] = df['related'].replace(2, 1)\n",
    "df = df.drop(['child_alone'], axis=1)"
   ]
  },
  {
   "cell_type": "code",
   "execution_count": 5,
   "id": "264ebb63",
   "metadata": {},
   "outputs": [],
   "source": [
    "X = df.message\n",
    "Y = df.iloc[:, 4:]\n",
    "#Can also write Y as df[df.columns[4:]]"
   ]
  },
  {
   "cell_type": "code",
   "execution_count": 6,
   "id": "5f89dc0f",
   "metadata": {},
   "outputs": [
    {
     "data": {
      "text/plain": [
       "(26216, 35)"
      ]
     },
     "execution_count": 6,
     "metadata": {},
     "output_type": "execute_result"
    }
   ],
   "source": [
    "Y.shape"
   ]
  },
  {
   "cell_type": "code",
   "execution_count": 7,
   "id": "5e5d564e",
   "metadata": {},
   "outputs": [
    {
     "data": {
      "text/plain": [
       "array([1, 0])"
      ]
     },
     "execution_count": 7,
     "metadata": {},
     "output_type": "execute_result"
    }
   ],
   "source": [
    "df['related'].unique()"
   ]
  },
  {
   "cell_type": "markdown",
   "id": "572ee581",
   "metadata": {},
   "source": [
    "### 2. Write a tokenization function to process your text data"
   ]
  },
  {
   "cell_type": "markdown",
   "id": "7b221288",
   "metadata": {},
   "source": [
    "We want to lowercase the text and remove punctuation. Also drop the ID column."
   ]
  },
  {
   "cell_type": "code",
   "execution_count": 8,
   "id": "d583cd34",
   "metadata": {},
   "outputs": [],
   "source": [
    "def tokenize(text):\n",
    "    \n",
    "    #make the text lowercase\n",
    "    text = text.lower()\n",
    "    \n",
    "    #remove punctuation from the text\n",
    "    text = text.replace(r'[^\\w\\s]','')\n",
    "    \n",
    "    #stop_words = set(stopwords.words('english'))\n",
    "    \n",
    "    #tokenize text\n",
    "    tokens = word_tokenize(text)\n",
    "    \n",
    "    # initiate lemmatizer\n",
    "    lemmatizer = WordNetLemmatizer()\n",
    "    \n",
    "    lemmatized = [lemmatizer.lemmatize(word) for word in tokens]\n",
    "    \n",
    "    # iterate through each token\n",
    "    clean_tokens = []\n",
    "    for tok in tokens:\n",
    "        #lemmatize, normalize case, remove leading/trailing white space\n",
    "        clean_tok = lemmatizer.lemmatize(tok).lower().strip()\n",
    "        clean_tokens.append(clean_tok)\n",
    "    return clean_tokens"
   ]
  },
  {
   "cell_type": "markdown",
   "id": "7f9de662",
   "metadata": {},
   "source": [
    "### 3. Build a machine learning pipeline\n",
    "This machine pipeline should take in the `message` column as input and output classification results on the other 36 categories in the dataset. You may find the [MultiOutputClassifier](http://scikit-learn.org/stable/modules/generated/sklearn.multioutput.MultiOutputClassifier.html) helpful for predicting multiple target variables."
   ]
  },
  {
   "cell_type": "code",
   "execution_count": 9,
   "id": "e6e5db09",
   "metadata": {},
   "outputs": [],
   "source": [
    "def model_pipeline():\n",
    "\n",
    "    pipeline = Pipeline([\n",
    "\n",
    "        ('vect', CountVectorizer(tokenizer=tokenize)),\n",
    "        ('tfidf', TfidfTransformer()),\n",
    "        ('clf', MultiOutputClassifier(RandomForestClassifier()))\n",
    "    ])\n",
    "    return pipeline"
   ]
  },
  {
   "cell_type": "markdown",
   "id": "be172209",
   "metadata": {},
   "source": [
    "### 4. Train pipeline\n",
    "- Split data into train and test sets\n",
    "- Train pipeline"
   ]
  },
  {
   "cell_type": "code",
   "execution_count": 10,
   "id": "e7ab4654",
   "metadata": {},
   "outputs": [],
   "source": [
    "y_labels = Y.columns"
   ]
  },
  {
   "cell_type": "code",
   "execution_count": 11,
   "id": "30b9e87f",
   "metadata": {},
   "outputs": [
    {
     "data": {
      "text/plain": [
       "array(['related', 'request', 'offer', 'aid_related', 'medical_help',\n",
       "       'medical_products', 'search_and_rescue', 'security', 'military',\n",
       "       'water', 'food', 'shelter', 'clothing', 'money', 'missing_people',\n",
       "       'refugees', 'death', 'other_aid', 'infrastructure_related',\n",
       "       'transport', 'buildings', 'electricity', 'tools', 'hospitals',\n",
       "       'shops', 'aid_centers', 'other_infrastructure', 'weather_related',\n",
       "       'floods', 'storm', 'fire', 'earthquake', 'cold', 'other_weather',\n",
       "       'direct_report'], dtype=object)"
      ]
     },
     "execution_count": 11,
     "metadata": {},
     "output_type": "execute_result"
    }
   ],
   "source": [
    "y_labels.values"
   ]
  },
  {
   "cell_type": "code",
   "execution_count": 12,
   "id": "217333ff",
   "metadata": {},
   "outputs": [],
   "source": [
    "X_train, X_test, y_train, y_test = train_test_split(X, Y)"
   ]
  },
  {
   "cell_type": "code",
   "execution_count": 13,
   "id": "39ae0c3d",
   "metadata": {},
   "outputs": [],
   "source": [
    "model = model_pipeline()\n",
    "fit_model = model.fit(X_train, y_train)"
   ]
  },
  {
   "cell_type": "markdown",
   "id": "dc9d8297",
   "metadata": {},
   "source": [
    "### 5. Test your model\n",
    "Report the f1 score, precision and recall for each output category of the dataset. You can do this by iterating through the columns and calling sklearn's `classification_report` on each."
   ]
  },
  {
   "cell_type": "code",
   "execution_count": 14,
   "id": "2552806b",
   "metadata": {},
   "outputs": [],
   "source": [
    "y_pred_train = fit_model.predict(X_train)\n",
    "y_pred_test = fit_model.predict(X_test)\n",
    "#y_pred = pd.DataFrame(y_pred, columns=y_labels)"
   ]
  },
  {
   "cell_type": "code",
   "execution_count": 15,
   "id": "95812ef4",
   "metadata": {},
   "outputs": [
    {
     "name": "stdout",
     "output_type": "stream",
     "text": [
      "                        precision    recall  f1-score   support\n",
      "\n",
      "               related       0.82      0.94      0.87      5008\n",
      "               request       0.81      0.41      0.54      1109\n",
      "                 offer       0.00      0.00      0.00        28\n",
      "           aid_related       0.72      0.52      0.61      2680\n",
      "          medical_help       0.57      0.07      0.13       504\n",
      "      medical_products       0.77      0.05      0.09       339\n",
      "     search_and_rescue       0.43      0.02      0.03       184\n",
      "              security       0.50      0.01      0.01       132\n",
      "              military       0.61      0.09      0.15       196\n",
      "                 water       0.80      0.17      0.28       414\n",
      "                  food       0.85      0.31      0.45       723\n",
      "               shelter       0.83      0.17      0.28       562\n",
      "              clothing       0.89      0.09      0.16        88\n",
      "                 money       0.89      0.05      0.09       173\n",
      "        missing_people       0.00      0.00      0.00        87\n",
      "              refugees       0.50      0.05      0.08       217\n",
      "                 death       0.88      0.10      0.18       303\n",
      "             other_aid       0.58      0.03      0.06       855\n",
      "infrastructure_related       0.20      0.00      0.01       393\n",
      "             transport       0.67      0.09      0.15       297\n",
      "             buildings       0.72      0.10      0.18       310\n",
      "           electricity       0.50      0.04      0.07       138\n",
      "                 tools       0.00      0.00      0.00        40\n",
      "             hospitals       0.00      0.00      0.00        54\n",
      "                 shops       0.00      0.00      0.00        28\n",
      "           aid_centers       0.00      0.00      0.00        68\n",
      "  other_infrastructure       0.00      0.00      0.00       272\n",
      "       weather_related       0.84      0.52      0.64      1792\n",
      "                floods       0.91      0.35      0.51       550\n",
      "                 storm       0.72      0.34      0.46       605\n",
      "                  fire       0.00      0.00      0.00        78\n",
      "            earthquake       0.88      0.53      0.66       582\n",
      "                  cold       0.78      0.15      0.24       124\n",
      "         other_weather       0.35      0.02      0.04       341\n",
      "         direct_report       0.78      0.31      0.45      1266\n",
      "\n",
      "           avg / total       0.73      0.45      0.50     20540\n",
      "\n"
     ]
    },
    {
     "name": "stderr",
     "output_type": "stream",
     "text": [
      "/opt/conda/lib/python3.6/site-packages/sklearn/metrics/classification.py:1135: UndefinedMetricWarning: Precision and F-score are ill-defined and being set to 0.0 in labels with no predicted samples.\n",
      "  'precision', 'predicted', average, warn_for)\n"
     ]
    }
   ],
   "source": [
    "print(classification_report(y_test.values, y_pred_test, target_names=y_labels.values))"
   ]
  },
  {
   "cell_type": "code",
   "execution_count": 16,
   "id": "ac9ec52e",
   "metadata": {},
   "outputs": [
    {
     "name": "stdout",
     "output_type": "stream",
     "text": [
      "                        precision    recall  f1-score   support\n",
      "\n",
      "               related       0.99      1.00      1.00     15086\n",
      "               request       1.00      0.93      0.96      3365\n",
      "                 offer       1.00      0.73      0.85        90\n",
      "           aid_related       1.00      0.97      0.98      8180\n",
      "          medical_help       1.00      0.85      0.92      1580\n",
      "      medical_products       1.00      0.86      0.92       974\n",
      "     search_and_rescue       1.00      0.81      0.89       540\n",
      "              security       1.00      0.75      0.86       339\n",
      "              military       1.00      0.88      0.93       664\n",
      "                 water       1.00      0.90      0.95      1258\n",
      "                  food       1.00      0.94      0.97      2200\n",
      "               shelter       1.00      0.90      0.95      1752\n",
      "              clothing       1.00      0.86      0.92       317\n",
      "                 money       1.00      0.82      0.90       431\n",
      "        missing_people       1.00      0.75      0.86       211\n",
      "              refugees       1.00      0.83      0.90       658\n",
      "                 death       1.00      0.88      0.94       891\n",
      "             other_aid       1.00      0.84      0.91      2591\n",
      "infrastructure_related       1.00      0.78      0.87      1312\n",
      "             transport       1.00      0.80      0.89       904\n",
      "             buildings       1.00      0.88      0.93      1023\n",
      "           electricity       1.00      0.79      0.88       394\n",
      "                 tools       1.00      0.74      0.85       119\n",
      "             hospitals       1.00      0.81      0.90       229\n",
      "                 shops       1.00      0.76      0.86        92\n",
      "           aid_centers       1.00      0.67      0.80       241\n",
      "  other_infrastructure       1.00      0.78      0.87       879\n",
      "       weather_related       1.00      0.95      0.98      5505\n",
      "                floods       1.00      0.90      0.95      1605\n",
      "                 storm       1.00      0.95      0.97      1838\n",
      "                  fire       1.00      0.81      0.90       204\n",
      "            earthquake       1.00      0.95      0.97      1873\n",
      "                  cold       1.00      0.86      0.93       406\n",
      "         other_weather       1.00      0.80      0.89      1035\n",
      "         direct_report       1.00      0.92      0.96      3809\n",
      "\n",
      "           avg / total       1.00      0.93      0.96     62595\n",
      "\n"
     ]
    }
   ],
   "source": [
    "print(classification_report(y_train.values, y_pred_train, target_names=y_labels.values))"
   ]
  },
  {
   "cell_type": "markdown",
   "id": "70472f8a",
   "metadata": {},
   "source": [
    "### 6. Improve your model\n",
    "Use grid search to find better parameters. "
   ]
  },
  {
   "cell_type": "code",
   "execution_count": 17,
   "id": "e4ae722f",
   "metadata": {
    "scrolled": true
   },
   "outputs": [
    {
     "data": {
      "text/plain": [
       "{'memory': None,\n",
       " 'steps': [('vect',\n",
       "   CountVectorizer(analyzer='word', binary=False, decode_error='strict',\n",
       "           dtype=<class 'numpy.int64'>, encoding='utf-8', input='content',\n",
       "           lowercase=True, max_df=1.0, max_features=None, min_df=1,\n",
       "           ngram_range=(1, 1), preprocessor=None, stop_words=None,\n",
       "           strip_accents=None, token_pattern='(?u)\\\\b\\\\w\\\\w+\\\\b',\n",
       "           tokenizer=<function tokenize at 0x7fea51646378>, vocabulary=None)),\n",
       "  ('tfidf',\n",
       "   TfidfTransformer(norm='l2', smooth_idf=True, sublinear_tf=False, use_idf=True)),\n",
       "  ('clf',\n",
       "   MultiOutputClassifier(estimator=RandomForestClassifier(bootstrap=True, class_weight=None, criterion='gini',\n",
       "               max_depth=None, max_features='auto', max_leaf_nodes=None,\n",
       "               min_impurity_decrease=0.0, min_impurity_split=None,\n",
       "               min_samples_leaf=1, min_samples_split=2,\n",
       "               min_weight_fraction_leaf=0.0, n_estimators=10, n_jobs=1,\n",
       "               oob_score=False, random_state=None, verbose=0,\n",
       "               warm_start=False),\n",
       "              n_jobs=1))],\n",
       " 'vect': CountVectorizer(analyzer='word', binary=False, decode_error='strict',\n",
       "         dtype=<class 'numpy.int64'>, encoding='utf-8', input='content',\n",
       "         lowercase=True, max_df=1.0, max_features=None, min_df=1,\n",
       "         ngram_range=(1, 1), preprocessor=None, stop_words=None,\n",
       "         strip_accents=None, token_pattern='(?u)\\\\b\\\\w\\\\w+\\\\b',\n",
       "         tokenizer=<function tokenize at 0x7fea51646378>, vocabulary=None),\n",
       " 'tfidf': TfidfTransformer(norm='l2', smooth_idf=True, sublinear_tf=False, use_idf=True),\n",
       " 'clf': MultiOutputClassifier(estimator=RandomForestClassifier(bootstrap=True, class_weight=None, criterion='gini',\n",
       "             max_depth=None, max_features='auto', max_leaf_nodes=None,\n",
       "             min_impurity_decrease=0.0, min_impurity_split=None,\n",
       "             min_samples_leaf=1, min_samples_split=2,\n",
       "             min_weight_fraction_leaf=0.0, n_estimators=10, n_jobs=1,\n",
       "             oob_score=False, random_state=None, verbose=0,\n",
       "             warm_start=False),\n",
       "            n_jobs=1),\n",
       " 'vect__analyzer': 'word',\n",
       " 'vect__binary': False,\n",
       " 'vect__decode_error': 'strict',\n",
       " 'vect__dtype': numpy.int64,\n",
       " 'vect__encoding': 'utf-8',\n",
       " 'vect__input': 'content',\n",
       " 'vect__lowercase': True,\n",
       " 'vect__max_df': 1.0,\n",
       " 'vect__max_features': None,\n",
       " 'vect__min_df': 1,\n",
       " 'vect__ngram_range': (1, 1),\n",
       " 'vect__preprocessor': None,\n",
       " 'vect__stop_words': None,\n",
       " 'vect__strip_accents': None,\n",
       " 'vect__token_pattern': '(?u)\\\\b\\\\w\\\\w+\\\\b',\n",
       " 'vect__tokenizer': <function __main__.tokenize(text)>,\n",
       " 'vect__vocabulary': None,\n",
       " 'tfidf__norm': 'l2',\n",
       " 'tfidf__smooth_idf': True,\n",
       " 'tfidf__sublinear_tf': False,\n",
       " 'tfidf__use_idf': True,\n",
       " 'clf__estimator__bootstrap': True,\n",
       " 'clf__estimator__class_weight': None,\n",
       " 'clf__estimator__criterion': 'gini',\n",
       " 'clf__estimator__max_depth': None,\n",
       " 'clf__estimator__max_features': 'auto',\n",
       " 'clf__estimator__max_leaf_nodes': None,\n",
       " 'clf__estimator__min_impurity_decrease': 0.0,\n",
       " 'clf__estimator__min_impurity_split': None,\n",
       " 'clf__estimator__min_samples_leaf': 1,\n",
       " 'clf__estimator__min_samples_split': 2,\n",
       " 'clf__estimator__min_weight_fraction_leaf': 0.0,\n",
       " 'clf__estimator__n_estimators': 10,\n",
       " 'clf__estimator__n_jobs': 1,\n",
       " 'clf__estimator__oob_score': False,\n",
       " 'clf__estimator__random_state': None,\n",
       " 'clf__estimator__verbose': 0,\n",
       " 'clf__estimator__warm_start': False,\n",
       " 'clf__estimator': RandomForestClassifier(bootstrap=True, class_weight=None, criterion='gini',\n",
       "             max_depth=None, max_features='auto', max_leaf_nodes=None,\n",
       "             min_impurity_decrease=0.0, min_impurity_split=None,\n",
       "             min_samples_leaf=1, min_samples_split=2,\n",
       "             min_weight_fraction_leaf=0.0, n_estimators=10, n_jobs=1,\n",
       "             oob_score=False, random_state=None, verbose=0,\n",
       "             warm_start=False),\n",
       " 'clf__n_jobs': 1}"
      ]
     },
     "execution_count": 17,
     "metadata": {},
     "output_type": "execute_result"
    }
   ],
   "source": [
    "fit_model.get_params()"
   ]
  },
  {
   "cell_type": "code",
   "execution_count": 18,
   "id": "18af6469",
   "metadata": {},
   "outputs": [],
   "source": [
    "parameters = [\n",
    "    {\n",
    "        'clf__estimator__n_estimators': [10, 20],\n",
    "        'vect__max_df': (0.5, 1.0),\n",
    "        #'clf__estimator__criterion': ('gini', 'entropy'),\n",
    "        #'clf__estimator__min_samples_split': (2, 3)\n",
    "    }\n",
    "]\n",
    "\n",
    "cv = GridSearchCV(fit_model, param_grid=parameters, scoring='f1_micro', n_jobs=4, verbose=2)"
   ]
  },
  {
   "cell_type": "code",
   "execution_count": 19,
   "id": "61dcb75b",
   "metadata": {},
   "outputs": [
    {
     "name": "stdout",
     "output_type": "stream",
     "text": [
      "Fitting 3 folds for each of 4 candidates, totalling 12 fits\n",
      "[CV] clf__estimator__n_estimators=10, vect__max_df=0.5 ...............\n",
      "[CV] clf__estimator__n_estimators=10, vect__max_df=0.5 ...............\n",
      "[CV] clf__estimator__n_estimators=10, vect__max_df=0.5 ...............\n",
      "[CV] clf__estimator__n_estimators=10, vect__max_df=1.0 ...............\n",
      "[CV]  clf__estimator__n_estimators=10, vect__max_df=0.5, total= 4.2min\n",
      "[CV] clf__estimator__n_estimators=10, vect__max_df=1.0 ...............\n",
      "[CV]  clf__estimator__n_estimators=10, vect__max_df=0.5, total= 4.2min\n",
      "[CV] clf__estimator__n_estimators=10, vect__max_df=1.0 ...............\n",
      "[CV]  clf__estimator__n_estimators=10, vect__max_df=1.0, total= 4.2min\n",
      "[CV] clf__estimator__n_estimators=20, vect__max_df=0.5 ...............\n",
      "[CV]  clf__estimator__n_estimators=10, vect__max_df=0.5, total= 4.3min\n",
      "[CV] clf__estimator__n_estimators=20, vect__max_df=0.5 ...............\n",
      "[CV]  clf__estimator__n_estimators=10, vect__max_df=1.0, total= 3.8min\n",
      "[CV] clf__estimator__n_estimators=20, vect__max_df=0.5 ...............\n",
      "[CV]  clf__estimator__n_estimators=10, vect__max_df=1.0, total= 3.9min\n",
      "[CV] clf__estimator__n_estimators=20, vect__max_df=1.0 ...............\n",
      "[CV]  clf__estimator__n_estimators=20, vect__max_df=0.5, total= 6.7min\n",
      "[CV] clf__estimator__n_estimators=20, vect__max_df=1.0 ...............\n",
      "[CV]  clf__estimator__n_estimators=20, vect__max_df=0.5, total= 6.8min\n",
      "[CV] clf__estimator__n_estimators=20, vect__max_df=1.0 ...............\n",
      "[CV]  clf__estimator__n_estimators=20, vect__max_df=0.5, total= 6.6min\n",
      "[CV]  clf__estimator__n_estimators=20, vect__max_df=1.0, total= 6.7min\n",
      "[CV]  clf__estimator__n_estimators=20, vect__max_df=1.0, total= 5.6min\n",
      "[CV]  clf__estimator__n_estimators=20, vect__max_df=1.0, total= 5.5min\n"
     ]
    },
    {
     "name": "stderr",
     "output_type": "stream",
     "text": [
      "[Parallel(n_jobs=4)]: Done  12 out of  12 | elapsed: 18.9min remaining:    0.0s\n",
      "[Parallel(n_jobs=4)]: Done  12 out of  12 | elapsed: 18.9min finished\n"
     ]
    },
    {
     "data": {
      "text/plain": [
       "GridSearchCV(cv=None, error_score='raise',\n",
       "       estimator=Pipeline(memory=None,\n",
       "     steps=[('vect', CountVectorizer(analyzer='word', binary=False, decode_error='strict',\n",
       "        dtype=<class 'numpy.int64'>, encoding='utf-8', input='content',\n",
       "        lowercase=True, max_df=1.0, max_features=None, min_df=1,\n",
       "        ngram_range=(1, 1), preprocessor=None, stop_words=None,\n",
       "        strip...oob_score=False, random_state=None, verbose=0,\n",
       "            warm_start=False),\n",
       "           n_jobs=1))]),\n",
       "       fit_params=None, iid=True, n_jobs=4,\n",
       "       param_grid=[{'clf__estimator__n_estimators': [10, 20], 'vect__max_df': (0.5, 1.0)}],\n",
       "       pre_dispatch='2*n_jobs', refit=True, return_train_score='warn',\n",
       "       scoring='f1_micro', verbose=2)"
      ]
     },
     "execution_count": 19,
     "metadata": {},
     "output_type": "execute_result"
    }
   ],
   "source": [
    "cv.fit(X_train, y_train)"
   ]
  },
  {
   "cell_type": "markdown",
   "id": "1cdaaec4",
   "metadata": {},
   "source": [
    "### 7. Test your model\n",
    "Show the accuracy, precision, and recall of the tuned model.  \n",
    "\n",
    "Since this project focuses on code quality, process, and  pipelines, there is no minimum performance metric needed to pass. However, make sure to fine tune your models for accuracy, precision and recall to make your project stand out - especially for your portfolio!"
   ]
  },
  {
   "cell_type": "code",
   "execution_count": 20,
   "id": "f5dbcd1d",
   "metadata": {},
   "outputs": [],
   "source": [
    "y_pred_train = cv.predict(X_train)\n",
    "y_pred_test = cv.predict(X_test)"
   ]
  },
  {
   "cell_type": "code",
   "execution_count": 21,
   "id": "9bdd2fba",
   "metadata": {},
   "outputs": [
    {
     "name": "stdout",
     "output_type": "stream",
     "text": [
      "                        precision    recall  f1-score   support\n",
      "\n",
      "               related       0.82      0.96      0.88      5008\n",
      "               request       0.84      0.40      0.54      1109\n",
      "                 offer       0.00      0.00      0.00        28\n",
      "           aid_related       0.76      0.59      0.66      2680\n",
      "          medical_help       0.58      0.06      0.11       504\n",
      "      medical_products       0.89      0.10      0.18       339\n",
      "     search_and_rescue       0.50      0.02      0.04       184\n",
      "              security       0.00      0.00      0.00       132\n",
      "              military       0.61      0.06      0.10       196\n",
      "                 water       0.89      0.31      0.46       414\n",
      "                  food       0.85      0.46      0.60       723\n",
      "               shelter       0.85      0.26      0.40       562\n",
      "              clothing       0.86      0.14      0.24        88\n",
      "                 money       0.86      0.03      0.07       173\n",
      "        missing_people       0.00      0.00      0.00        87\n",
      "              refugees       0.76      0.06      0.11       217\n",
      "                 death       0.92      0.08      0.14       303\n",
      "             other_aid       0.78      0.03      0.07       855\n",
      "infrastructure_related       0.40      0.01      0.01       393\n",
      "             transport       0.61      0.06      0.12       297\n",
      "             buildings       0.83      0.08      0.14       310\n",
      "           electricity       0.00      0.00      0.00       138\n",
      "                 tools       0.00      0.00      0.00        40\n",
      "             hospitals       0.00      0.00      0.00        54\n",
      "                 shops       0.00      0.00      0.00        28\n",
      "           aid_centers       0.00      0.00      0.00        68\n",
      "  other_infrastructure       0.00      0.00      0.00       272\n",
      "       weather_related       0.84      0.58      0.68      1792\n",
      "                floods       0.90      0.35      0.51       550\n",
      "                 storm       0.76      0.41      0.53       605\n",
      "                  fire       0.00      0.00      0.00        78\n",
      "            earthquake       0.88      0.62      0.73       582\n",
      "                  cold       0.89      0.06      0.12       124\n",
      "         other_weather       0.50      0.04      0.08       341\n",
      "         direct_report       0.82      0.36      0.50      1266\n",
      "\n",
      "           avg / total       0.76      0.48      0.53     20540\n",
      "\n"
     ]
    },
    {
     "name": "stderr",
     "output_type": "stream",
     "text": [
      "/opt/conda/lib/python3.6/site-packages/sklearn/metrics/classification.py:1135: UndefinedMetricWarning: Precision and F-score are ill-defined and being set to 0.0 in labels with no predicted samples.\n",
      "  'precision', 'predicted', average, warn_for)\n"
     ]
    }
   ],
   "source": [
    "print(classification_report(y_test.values, y_pred_test, target_names=y_labels))"
   ]
  },
  {
   "cell_type": "code",
   "execution_count": 22,
   "id": "685972a5",
   "metadata": {},
   "outputs": [
    {
     "name": "stdout",
     "output_type": "stream",
     "text": [
      "                        precision    recall  f1-score   support\n",
      "\n",
      "               related       1.00      1.00      1.00     15086\n",
      "               request       1.00      0.97      0.98      3365\n",
      "                 offer       1.00      0.88      0.93        90\n",
      "           aid_related       1.00      0.99      1.00      8180\n",
      "          medical_help       1.00      0.96      0.98      1580\n",
      "      medical_products       1.00      0.94      0.97       974\n",
      "     search_and_rescue       1.00      0.89      0.94       540\n",
      "              security       1.00      0.86      0.93       339\n",
      "              military       1.00      0.94      0.97       664\n",
      "                 water       1.00      0.98      0.99      1258\n",
      "                  food       1.00      0.99      0.99      2200\n",
      "               shelter       1.00      0.96      0.98      1752\n",
      "              clothing       1.00      0.94      0.97       317\n",
      "                 money       1.00      0.91      0.95       431\n",
      "        missing_people       1.00      0.88      0.93       211\n",
      "              refugees       1.00      0.93      0.96       658\n",
      "                 death       1.00      0.96      0.98       891\n",
      "             other_aid       1.00      0.94      0.97      2591\n",
      "infrastructure_related       1.00      0.91      0.95      1312\n",
      "             transport       1.00      0.92      0.96       904\n",
      "             buildings       1.00      0.96      0.98      1023\n",
      "           electricity       1.00      0.91      0.95       394\n",
      "                 tools       1.00      0.87      0.93       119\n",
      "             hospitals       1.00      0.82      0.90       229\n",
      "                 shops       1.00      0.95      0.97        92\n",
      "           aid_centers       1.00      0.82      0.90       241\n",
      "  other_infrastructure       1.00      0.89      0.94       879\n",
      "       weather_related       1.00      0.99      0.99      5505\n",
      "                floods       1.00      0.96      0.98      1605\n",
      "                 storm       1.00      0.99      0.99      1838\n",
      "                  fire       1.00      0.89      0.94       204\n",
      "            earthquake       1.00      0.99      0.99      1873\n",
      "                  cold       1.00      0.94      0.97       406\n",
      "         other_weather       1.00      0.91      0.95      1035\n",
      "         direct_report       1.00      0.97      0.99      3809\n",
      "\n",
      "           avg / total       1.00      0.97      0.98     62595\n",
      "\n"
     ]
    }
   ],
   "source": [
    "print(classification_report(y_train.values, y_pred_train, target_names=y_labels.values))"
   ]
  },
  {
   "cell_type": "markdown",
   "id": "a7b15247",
   "metadata": {},
   "source": [
    "### 8. Try improving your model further. Here are a few ideas:\n",
    "* try other machine learning algorithms\n",
    "* add other features besides the TF-IDF"
   ]
  },
  {
   "cell_type": "code",
   "execution_count": 23,
   "id": "8cdc2959",
   "metadata": {},
   "outputs": [],
   "source": [
    "class StartingVerbExtractor(BaseEstimator, TransformerMixin):\n",
    "\n",
    "    def starting_verb(self, text):\n",
    "        # tokenize by sentences\n",
    "        sentence_list = nltk.sent_tokenize(text)\n",
    "        \n",
    "        for sentence in sentence_list:\n",
    "            # tokenize each sentence into words and tag part of speech\n",
    "            pos_tags = nltk.pos_tag(tokenize(sentence))\n",
    "            \n",
    "            # index pos_tags to get the first word and part of speech tag\n",
    "            first_word, first_tag = pos_tags[0]\n",
    "            \n",
    "            # return true if the first word is an appropriate verb or RT for retweet\n",
    "            if first_tag in ['VB', 'VBP'] or first_word == 'RT':\n",
    "\n",
    "                return True\n",
    "        return False\n",
    "\n",
    "    def fit(self, x, y=None):\n",
    "        return self\n",
    "\n",
    "    def transform(self, X):\n",
    "        # apply starting_verb function to all values in X\n",
    "        X_tagged = pd.Series(X).apply(self.starting_verb)\n",
    "\n",
    "        return pd.DataFrame(X_tagged)"
   ]
  },
  {
   "cell_type": "code",
   "execution_count": 24,
   "id": "e0a1ff19",
   "metadata": {},
   "outputs": [],
   "source": [
    "def model_pipeline2():\n",
    "    pipeline = Pipeline([\n",
    "        \n",
    "            ('features', FeatureUnion([\n",
    "\n",
    "                ('text_pipeline', Pipeline([\n",
    "                    ('count_vectorizer', CountVectorizer(tokenizer=tokenize)),\n",
    "                    ('tfidf_transformer', TfidfTransformer())\n",
    "                ])),\n",
    "\n",
    "                ('starting_verb_transformer', StartingVerbExtractor())\n",
    "            ])),\n",
    "        \n",
    "            ('classifier', MultiOutputClassifier(AdaBoostClassifier()))\n",
    "    ])\n",
    "    return pipeline"
   ]
  },
  {
   "cell_type": "code",
   "execution_count": 25,
   "id": "3ddf6508",
   "metadata": {},
   "outputs": [],
   "source": [
    "X_train, X_test, y_train, y_test = train_test_split(X, Y)"
   ]
  },
  {
   "cell_type": "code",
   "execution_count": 26,
   "id": "dca3e782",
   "metadata": {},
   "outputs": [],
   "source": [
    "model = model_pipeline2()\n",
    "fit_model2 = model.fit(X_train, y_train)"
   ]
  },
  {
   "cell_type": "code",
   "execution_count": 27,
   "id": "14a658f9",
   "metadata": {},
   "outputs": [],
   "source": [
    "y_pred_train = fit_model2.predict(X_train)\n",
    "y_pred_test = fit_model2.predict(X_test)"
   ]
  },
  {
   "cell_type": "code",
   "execution_count": 28,
   "id": "40a40a66",
   "metadata": {},
   "outputs": [
    {
     "name": "stdout",
     "output_type": "stream",
     "text": [
      "                        precision    recall  f1-score   support\n",
      "\n",
      "               related       0.83      0.94      0.88      5065\n",
      "               request       0.76      0.54      0.63      1098\n",
      "                 offer       0.21      0.10      0.13        31\n",
      "           aid_related       0.78      0.60      0.68      2724\n",
      "          medical_help       0.66      0.27      0.38       538\n",
      "      medical_products       0.63      0.33      0.43       335\n",
      "     search_and_rescue       0.57      0.20      0.30       172\n",
      "              security       0.35      0.07      0.11       132\n",
      "              military       0.62      0.37      0.46       196\n",
      "                 water       0.75      0.65      0.70       396\n",
      "                  food       0.82      0.67      0.74       735\n",
      "               shelter       0.75      0.54      0.63       600\n",
      "              clothing       0.70      0.41      0.51       106\n",
      "                 money       0.56      0.28      0.37       170\n",
      "        missing_people       0.67      0.17      0.27        81\n",
      "              refugees       0.61      0.23      0.34       256\n",
      "                 death       0.70      0.41      0.52       297\n",
      "             other_aid       0.54      0.18      0.27       848\n",
      "infrastructure_related       0.36      0.07      0.12       445\n",
      "             transport       0.61      0.18      0.28       315\n",
      "             buildings       0.60      0.33      0.42       341\n",
      "           electricity       0.44      0.23      0.30       120\n",
      "                 tools       0.00      0.00      0.00        40\n",
      "             hospitals       0.19      0.07      0.11        69\n",
      "                 shops       0.00      0.00      0.00        33\n",
      "           aid_centers       0.38      0.11      0.18        87\n",
      "  other_infrastructure       0.28      0.07      0.11       291\n",
      "       weather_related       0.85      0.66      0.74      1886\n",
      "                floods       0.86      0.53      0.65       554\n",
      "                 storm       0.78      0.54      0.64       631\n",
      "                  fire       0.64      0.21      0.32        66\n",
      "            earthquake       0.89      0.77      0.83       650\n",
      "                  cold       0.72      0.35      0.48       141\n",
      "         other_weather       0.47      0.14      0.22       369\n",
      "         direct_report       0.75      0.48      0.59      1235\n",
      "\n",
      "           avg / total       0.74      0.58      0.63     21053\n",
      "\n"
     ]
    }
   ],
   "source": [
    "print(classification_report(y_test.values, y_pred_test, target_names=y_labels))"
   ]
  },
  {
   "cell_type": "code",
   "execution_count": 29,
   "id": "a069c42f",
   "metadata": {
    "scrolled": true
   },
   "outputs": [
    {
     "name": "stdout",
     "output_type": "stream",
     "text": [
      "                        precision    recall  f1-score   support\n",
      "\n",
      "               related       0.83      0.94      0.88     15029\n",
      "               request       0.80      0.56      0.66      3376\n",
      "                 offer       0.39      0.08      0.13        87\n",
      "           aid_related       0.77      0.60      0.67      8136\n",
      "          medical_help       0.65      0.28      0.39      1546\n",
      "      medical_products       0.71      0.37      0.48       978\n",
      "     search_and_rescue       0.69      0.23      0.35       552\n",
      "              security       0.48      0.09      0.15       339\n",
      "              military       0.69      0.35      0.46       664\n",
      "                 water       0.77      0.65      0.70      1276\n",
      "                  food       0.82      0.69      0.75      2188\n",
      "               shelter       0.80      0.56      0.66      1714\n",
      "              clothing       0.76      0.47      0.58       299\n",
      "                 money       0.62      0.31      0.42       434\n",
      "        missing_people       0.71      0.17      0.28       217\n",
      "              refugees       0.64      0.25      0.36       619\n",
      "                 death       0.79      0.51      0.62       897\n",
      "             other_aid       0.56      0.17      0.26      2598\n",
      "infrastructure_related       0.55      0.11      0.18      1260\n",
      "             transport       0.78      0.24      0.37       886\n",
      "             buildings       0.71      0.43      0.53       992\n",
      "           electricity       0.65      0.34      0.45       412\n",
      "                 tools       0.50      0.09      0.16       119\n",
      "             hospitals       0.40      0.12      0.19       214\n",
      "                 shops       0.69      0.10      0.18        87\n",
      "           aid_centers       0.52      0.14      0.21       222\n",
      "  other_infrastructure       0.55      0.13      0.20       860\n",
      "       weather_related       0.86      0.67      0.75      5411\n",
      "                floods       0.88      0.55      0.68      1601\n",
      "                 storm       0.77      0.54      0.64      1812\n",
      "                  fire       0.73      0.34      0.47       216\n",
      "            earthquake       0.89      0.78      0.83      1805\n",
      "                  cold       0.70      0.36      0.47       389\n",
      "         other_weather       0.58      0.17      0.26      1007\n",
      "         direct_report       0.75      0.49      0.60      3840\n",
      "\n",
      "           avg / total       0.77      0.60      0.65     62082\n",
      "\n"
     ]
    }
   ],
   "source": [
    "print(classification_report(y_train.values, y_pred_train, target_names=y_labels))"
   ]
  },
  {
   "cell_type": "markdown",
   "id": "ca7dee81",
   "metadata": {},
   "source": [
    "### 9. Export your model as a pickle file"
   ]
  },
  {
   "cell_type": "code",
   "execution_count": 30,
   "id": "435c6a8f",
   "metadata": {},
   "outputs": [],
   "source": [
    "model_pkl = pickle.dumps('classifier.pkl')"
   ]
  },
  {
   "cell_type": "code",
   "execution_count": null,
   "id": "34f89ab3",
   "metadata": {},
   "outputs": [],
   "source": []
  },
  {
   "cell_type": "markdown",
   "id": "3424a529",
   "metadata": {},
   "source": [
    "### 10. Use this notebook to complete `train_classifier.py`\n",
    "Use the template file attached in the Resources folder to write a script that runs the steps above to create a database and export a model based on a new dataset specified by the user."
   ]
  },
  {
   "cell_type": "code",
   "execution_count": null,
   "id": "da848455",
   "metadata": {},
   "outputs": [],
   "source": []
  },
  {
   "cell_type": "code",
   "execution_count": null,
   "id": "41709efa",
   "metadata": {},
   "outputs": [],
   "source": []
  }
 ],
 "metadata": {
  "kernelspec": {
   "display_name": "Python 3",
   "language": "python",
   "name": "python3"
  },
  "language_info": {
   "codemirror_mode": {
    "name": "ipython",
    "version": 3
   },
   "file_extension": ".py",
   "mimetype": "text/x-python",
   "name": "python",
   "nbconvert_exporter": "python",
   "pygments_lexer": "ipython3",
   "version": "3.7.10"
  }
 },
 "nbformat": 4,
 "nbformat_minor": 5
}
